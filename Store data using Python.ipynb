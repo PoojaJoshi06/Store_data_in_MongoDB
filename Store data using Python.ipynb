{
 "cells": [
  {
   "cell_type": "code",
   "execution_count": 67,
   "metadata": {},
   "outputs": [],
   "source": [
    "#Load libraries\n",
    "import pandas as pd\n",
    "import os\n",
    "import pymongo as pymongo\n",
    "from pymongo import MongoClient\n",
    "import json"
   ]
  },
  {
   "cell_type": "code",
   "execution_count": 68,
   "metadata": {},
   "outputs": [],
   "source": [
    "#Set working directory\n",
    "os.chdir(\"C:/Users/admin/Documents/Python Files\")"
   ]
  },
  {
   "cell_type": "code",
   "execution_count": 69,
   "metadata": {},
   "outputs": [],
   "source": [
    "# Connect to the MongoDB, change the connection string per your MongoDB environment\n",
    "Channel = MongoClient(port=27017)"
   ]
  },
  {
   "cell_type": "code",
   "execution_count": 70,
   "metadata": {},
   "outputs": [],
   "source": [
    "#creating a database test and a collection mtcars\n",
    "db = Channel['test'] \n",
    "mtcars = db['mtcars']"
   ]
  },
  {
   "cell_type": "code",
   "execution_count": 71,
   "metadata": {},
   "outputs": [],
   "source": [
    "# Store a Dataframe-df into MongoDB\n",
    "df = pd.read_csv(\"mtcars.csv\")\n",
    "data_json = json.loads(df.to_json(orient='records'))"
   ]
  },
  {
   "cell_type": "code",
   "execution_count": 72,
   "metadata": {
    "scrolled": true
   },
   "outputs": [
    {
     "data": {
      "text/plain": [
       "<pymongo.results.InsertManyResult at 0x20cb167a5c8>"
      ]
     },
     "execution_count": 72,
     "metadata": {},
     "output_type": "execute_result"
    }
   ],
   "source": [
    "mtcars.insert_many(data_json)"
   ]
  },
  {
   "cell_type": "code",
   "execution_count": 73,
   "metadata": {},
   "outputs": [
    {
     "data": {
      "text/html": [
       "<div>\n",
       "<style scoped>\n",
       "    .dataframe tbody tr th:only-of-type {\n",
       "        vertical-align: middle;\n",
       "    }\n",
       "\n",
       "    .dataframe tbody tr th {\n",
       "        vertical-align: top;\n",
       "    }\n",
       "\n",
       "    .dataframe thead th {\n",
       "        text-align: right;\n",
       "    }\n",
       "</style>\n",
       "<table border=\"1\" class=\"dataframe\">\n",
       "  <thead>\n",
       "    <tr style=\"text-align: right;\">\n",
       "      <th></th>\n",
       "      <th>Unnamed: 0</th>\n",
       "      <th>_id</th>\n",
       "      <th>am</th>\n",
       "      <th>carb</th>\n",
       "      <th>cyl</th>\n",
       "      <th>disp</th>\n",
       "      <th>drat</th>\n",
       "      <th>gear</th>\n",
       "      <th>hp</th>\n",
       "      <th>mpg</th>\n",
       "      <th>qsec</th>\n",
       "      <th>vs</th>\n",
       "      <th>wt</th>\n",
       "    </tr>\n",
       "  </thead>\n",
       "  <tbody>\n",
       "    <tr>\n",
       "      <th>0</th>\n",
       "      <td>Mazda RX4</td>\n",
       "      <td>5c6ae379452bef1974e248be</td>\n",
       "      <td>1</td>\n",
       "      <td>4</td>\n",
       "      <td>6</td>\n",
       "      <td>160.0</td>\n",
       "      <td>3.90</td>\n",
       "      <td>4</td>\n",
       "      <td>110</td>\n",
       "      <td>21.0</td>\n",
       "      <td>16.46</td>\n",
       "      <td>0</td>\n",
       "      <td>2.620</td>\n",
       "    </tr>\n",
       "    <tr>\n",
       "      <th>1</th>\n",
       "      <td>Mazda RX4 Wag</td>\n",
       "      <td>5c6ae379452bef1974e248bf</td>\n",
       "      <td>1</td>\n",
       "      <td>4</td>\n",
       "      <td>6</td>\n",
       "      <td>160.0</td>\n",
       "      <td>3.90</td>\n",
       "      <td>4</td>\n",
       "      <td>110</td>\n",
       "      <td>21.0</td>\n",
       "      <td>17.02</td>\n",
       "      <td>0</td>\n",
       "      <td>2.875</td>\n",
       "    </tr>\n",
       "    <tr>\n",
       "      <th>2</th>\n",
       "      <td>Datsun 710</td>\n",
       "      <td>5c6ae379452bef1974e248c0</td>\n",
       "      <td>1</td>\n",
       "      <td>1</td>\n",
       "      <td>4</td>\n",
       "      <td>108.0</td>\n",
       "      <td>3.85</td>\n",
       "      <td>4</td>\n",
       "      <td>93</td>\n",
       "      <td>22.8</td>\n",
       "      <td>18.61</td>\n",
       "      <td>1</td>\n",
       "      <td>2.320</td>\n",
       "    </tr>\n",
       "    <tr>\n",
       "      <th>3</th>\n",
       "      <td>Hornet 4 Drive</td>\n",
       "      <td>5c6ae379452bef1974e248c1</td>\n",
       "      <td>0</td>\n",
       "      <td>1</td>\n",
       "      <td>6</td>\n",
       "      <td>258.0</td>\n",
       "      <td>3.08</td>\n",
       "      <td>3</td>\n",
       "      <td>110</td>\n",
       "      <td>21.4</td>\n",
       "      <td>19.44</td>\n",
       "      <td>1</td>\n",
       "      <td>3.215</td>\n",
       "    </tr>\n",
       "    <tr>\n",
       "      <th>4</th>\n",
       "      <td>Hornet Sportabout</td>\n",
       "      <td>5c6ae379452bef1974e248c2</td>\n",
       "      <td>0</td>\n",
       "      <td>2</td>\n",
       "      <td>8</td>\n",
       "      <td>360.0</td>\n",
       "      <td>3.15</td>\n",
       "      <td>3</td>\n",
       "      <td>175</td>\n",
       "      <td>18.7</td>\n",
       "      <td>17.02</td>\n",
       "      <td>0</td>\n",
       "      <td>3.440</td>\n",
       "    </tr>\n",
       "    <tr>\n",
       "      <th>5</th>\n",
       "      <td>Valiant</td>\n",
       "      <td>5c6ae379452bef1974e248c3</td>\n",
       "      <td>0</td>\n",
       "      <td>1</td>\n",
       "      <td>6</td>\n",
       "      <td>225.0</td>\n",
       "      <td>2.76</td>\n",
       "      <td>3</td>\n",
       "      <td>105</td>\n",
       "      <td>18.1</td>\n",
       "      <td>20.22</td>\n",
       "      <td>1</td>\n",
       "      <td>3.460</td>\n",
       "    </tr>\n",
       "    <tr>\n",
       "      <th>6</th>\n",
       "      <td>Duster 360</td>\n",
       "      <td>5c6ae379452bef1974e248c4</td>\n",
       "      <td>0</td>\n",
       "      <td>4</td>\n",
       "      <td>8</td>\n",
       "      <td>360.0</td>\n",
       "      <td>3.21</td>\n",
       "      <td>3</td>\n",
       "      <td>245</td>\n",
       "      <td>14.3</td>\n",
       "      <td>15.84</td>\n",
       "      <td>0</td>\n",
       "      <td>3.570</td>\n",
       "    </tr>\n",
       "    <tr>\n",
       "      <th>7</th>\n",
       "      <td>Merc 240D</td>\n",
       "      <td>5c6ae379452bef1974e248c5</td>\n",
       "      <td>0</td>\n",
       "      <td>2</td>\n",
       "      <td>4</td>\n",
       "      <td>146.7</td>\n",
       "      <td>3.69</td>\n",
       "      <td>4</td>\n",
       "      <td>62</td>\n",
       "      <td>24.4</td>\n",
       "      <td>20.00</td>\n",
       "      <td>1</td>\n",
       "      <td>3.190</td>\n",
       "    </tr>\n",
       "    <tr>\n",
       "      <th>8</th>\n",
       "      <td>Merc 230</td>\n",
       "      <td>5c6ae379452bef1974e248c6</td>\n",
       "      <td>0</td>\n",
       "      <td>2</td>\n",
       "      <td>4</td>\n",
       "      <td>140.8</td>\n",
       "      <td>3.92</td>\n",
       "      <td>4</td>\n",
       "      <td>95</td>\n",
       "      <td>22.8</td>\n",
       "      <td>22.90</td>\n",
       "      <td>1</td>\n",
       "      <td>3.150</td>\n",
       "    </tr>\n",
       "    <tr>\n",
       "      <th>9</th>\n",
       "      <td>Merc 280</td>\n",
       "      <td>5c6ae379452bef1974e248c7</td>\n",
       "      <td>0</td>\n",
       "      <td>4</td>\n",
       "      <td>6</td>\n",
       "      <td>167.6</td>\n",
       "      <td>3.92</td>\n",
       "      <td>4</td>\n",
       "      <td>123</td>\n",
       "      <td>19.2</td>\n",
       "      <td>18.30</td>\n",
       "      <td>1</td>\n",
       "      <td>3.440</td>\n",
       "    </tr>\n",
       "  </tbody>\n",
       "</table>\n",
       "</div>"
      ],
      "text/plain": [
       "          Unnamed: 0                       _id  am  carb  cyl   disp  drat  \\\n",
       "0          Mazda RX4  5c6ae379452bef1974e248be   1     4    6  160.0  3.90   \n",
       "1      Mazda RX4 Wag  5c6ae379452bef1974e248bf   1     4    6  160.0  3.90   \n",
       "2         Datsun 710  5c6ae379452bef1974e248c0   1     1    4  108.0  3.85   \n",
       "3     Hornet 4 Drive  5c6ae379452bef1974e248c1   0     1    6  258.0  3.08   \n",
       "4  Hornet Sportabout  5c6ae379452bef1974e248c2   0     2    8  360.0  3.15   \n",
       "5            Valiant  5c6ae379452bef1974e248c3   0     1    6  225.0  2.76   \n",
       "6         Duster 360  5c6ae379452bef1974e248c4   0     4    8  360.0  3.21   \n",
       "7          Merc 240D  5c6ae379452bef1974e248c5   0     2    4  146.7  3.69   \n",
       "8           Merc 230  5c6ae379452bef1974e248c6   0     2    4  140.8  3.92   \n",
       "9           Merc 280  5c6ae379452bef1974e248c7   0     4    6  167.6  3.92   \n",
       "\n",
       "   gear   hp   mpg   qsec  vs     wt  \n",
       "0     4  110  21.0  16.46   0  2.620  \n",
       "1     4  110  21.0  17.02   0  2.875  \n",
       "2     4   93  22.8  18.61   1  2.320  \n",
       "3     3  110  21.4  19.44   1  3.215  \n",
       "4     3  175  18.7  17.02   0  3.440  \n",
       "5     3  105  18.1  20.22   1  3.460  \n",
       "6     3  245  14.3  15.84   0  3.570  \n",
       "7     4   62  24.4  20.00   1  3.190  \n",
       "8     4   95  22.8  22.90   1  3.150  \n",
       "9     4  123  19.2  18.30   1  3.440  "
      ]
     },
     "execution_count": 73,
     "metadata": {},
     "output_type": "execute_result"
    }
   ],
   "source": [
    "#see our loaded data\n",
    "cursor = mtcars.find()\n",
    "result = pd.DataFrame(list(cursor)) \n",
    "result.head(10)"
   ]
  },
  {
   "cell_type": "code",
   "execution_count": 74,
   "metadata": {},
   "outputs": [],
   "source": [
    "#loading a data in the form of key-value pair\n",
    "dictionary = { \"name\": \"Peter\", \"address\": \"Lowstreet 27\" }\n",
    "list1 = [\n",
    "  { \"name\": \"Amy\", \"address\": \"Apple st 652\"},\n",
    "  { \"name\": \"Hannah\", \"address\": \"Mountain 21\"},\n",
    "  { \"name\": \"Michael\", \"address\": \"Valley 345\"},\n",
    "  { \"name\": \"Sandy\", \"address\": \"Ocean blvd 2\"},\n",
    "  { \"name\": \"Betty\", \"address\": \"Green Grass 1\"},\n",
    "  { \"name\": \"Richard\", \"address\": \"Sky st 331\"},\n",
    "  { \"name\": \"Susan\", \"address\": \"One way 98\"},\n",
    "  { \"name\": \"Vicky\", \"address\": \"Yellow Garden 2\"},\n",
    "  { \"name\": \"Ben\", \"address\": \"Park Lane 38\"},\n",
    "  { \"name\": \"William\", \"address\": \"Central st 954\"},\n",
    "  { \"name\": \"Chuck\", \"address\": \"Main Road 989\"},\n",
    "  { \"name\": \"Viola\", \"address\": \"Sideway 1633\"}\n",
    "]"
   ]
  },
  {
   "cell_type": "code",
   "execution_count": 75,
   "metadata": {},
   "outputs": [],
   "source": [
    "#deleting previously loaded data and loading a single document\n",
    "mtcars.delete_many({})\n",
    "x = mtcars.insert_one(dictionary)"
   ]
  },
  {
   "cell_type": "code",
   "execution_count": 77,
   "metadata": {},
   "outputs": [
    {
     "name": "stdout",
     "output_type": "stream",
     "text": [
      "{'_id': ObjectId('5c6ae570452bef1974e248ff'), 'name': 'Peter', 'address': 'Lowstreet 27'}\n"
     ]
    }
   ],
   "source": [
    "#see our loaded data\n",
    "for x in mtcars.find():\n",
    "  print(x) "
   ]
  },
  {
   "cell_type": "code",
   "execution_count": 79,
   "metadata": {},
   "outputs": [],
   "source": [
    "#deleting previously loaded data and loading multiple documents\n",
    "mtcars.delete_many({})\n",
    "x = mtcars.insert_many(list1)"
   ]
  },
  {
   "cell_type": "code",
   "execution_count": 80,
   "metadata": {},
   "outputs": [
    {
     "name": "stdout",
     "output_type": "stream",
     "text": [
      "{'_id': ObjectId('5c6ae594452bef1974e24900'), 'name': 'Amy', 'address': 'Apple st 652'}\n",
      "{'_id': ObjectId('5c6ae594452bef1974e24901'), 'name': 'Hannah', 'address': 'Mountain 21'}\n",
      "{'_id': ObjectId('5c6ae594452bef1974e24902'), 'name': 'Michael', 'address': 'Valley 345'}\n",
      "{'_id': ObjectId('5c6ae594452bef1974e24903'), 'name': 'Sandy', 'address': 'Ocean blvd 2'}\n",
      "{'_id': ObjectId('5c6ae594452bef1974e24904'), 'name': 'Betty', 'address': 'Green Grass 1'}\n",
      "{'_id': ObjectId('5c6ae594452bef1974e24905'), 'name': 'Richard', 'address': 'Sky st 331'}\n",
      "{'_id': ObjectId('5c6ae594452bef1974e24906'), 'name': 'Susan', 'address': 'One way 98'}\n",
      "{'_id': ObjectId('5c6ae594452bef1974e24907'), 'name': 'Vicky', 'address': 'Yellow Garden 2'}\n",
      "{'_id': ObjectId('5c6ae594452bef1974e24908'), 'name': 'Ben', 'address': 'Park Lane 38'}\n",
      "{'_id': ObjectId('5c6ae594452bef1974e24909'), 'name': 'William', 'address': 'Central st 954'}\n",
      "{'_id': ObjectId('5c6ae594452bef1974e2490a'), 'name': 'Chuck', 'address': 'Main Road 989'}\n",
      "{'_id': ObjectId('5c6ae594452bef1974e2490b'), 'name': 'Viola', 'address': 'Sideway 1633'}\n"
     ]
    }
   ],
   "source": [
    "#see our loaded data\n",
    "for x in mtcars.find():\n",
    "  print(x) "
   ]
  }
 ],
 "metadata": {
  "kernelspec": {
   "display_name": "Python 3",
   "language": "python",
   "name": "python3"
  },
  "language_info": {
   "codemirror_mode": {
    "name": "ipython",
    "version": 3
   },
   "file_extension": ".py",
   "mimetype": "text/x-python",
   "name": "python",
   "nbconvert_exporter": "python",
   "pygments_lexer": "ipython3",
   "version": "3.6.8"
  }
 },
 "nbformat": 4,
 "nbformat_minor": 2
}
